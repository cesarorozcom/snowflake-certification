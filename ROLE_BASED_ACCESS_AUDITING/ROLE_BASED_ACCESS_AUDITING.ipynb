{
 "metadata": {
  "kernelspec": {
   "display_name": "Streamlit Notebook",
   "name": "streamlit"
  },
  "lastEditStatus": {
   "notebookId": "7apadk3m3pm3sxrj2mhs",
   "authorId": "1016519210737",
   "authorName": "CESAR",
   "authorEmail": "snowflake.account02@engineer.com",
   "sessionId": "0dc02a31-d9a9-454c-8c6d-866030c1b1d9",
   "lastEditTime": 1752968104355
  }
 },
 "nbformat_minor": 5,
 "nbformat": 4,
 "cells": [
  {
   "cell_type": "markdown",
   "id": "89ebb4e6-c9eb-472a-9242-d1c2d00f4fc8",
   "metadata": {
    "name": "cell3",
    "collapsed": false
   },
   "source": "# User Role Analysis\nRetrieve user details and their role assignments."
  },
  {
   "cell_type": "code",
   "id": "4fd5e772-2406-430c-8710-fffa40aa1520",
   "metadata": {
    "language": "sql",
    "name": "sql_user_role"
   },
   "outputs": [],
   "source": "SELECT \n    u.name,\n    u.disabled,\n    u.last_success_login,\n    u.created_on as user_created_on,\n    g.role as granted_role,\n    g.granted_by,\n    g.created_on as grant_created_on\nFROM \n    SNOWFLAKE.ACCOUNT_USAGE.USERS u\nLEFT JOIN \n    SNOWFLAKE.ACCOUNT_USAGE.GRANTS_TO_USERS g\n    ON u.name = g.grantee_name\nWHERE \n    g.deleted_on IS NULL\nORDER BY \n    u.name, g.role;",
   "execution_count": null
  },
  {
   "cell_type": "code",
   "id": "421ce20c-bd28-4fa3-bb8e-6e374e0430ea",
   "metadata": {
    "language": "python",
    "name": "df_user_role"
   },
   "outputs": [],
   "source": "sql_user_role.to_pandas()",
   "execution_count": null
  },
  {
   "cell_type": "code",
   "id": "9fb85ee2-18b2-47d4-907a-3c452c7edbfd",
   "metadata": {
    "language": "python",
    "name": "cell5"
   },
   "outputs": [],
   "source": "# User Activity matrix\nuser_activity = (\n\n    df_user_role.groupby(['NAME', 'GRANTED_ROLE'])\n    .size()\n    .reset_index()\n    .pivot(index='NAME', columns='GRANTED_ROLE', values=0)\n)\n\n# Convert to long format\nuser_activity_long = user_activity.reset_index().melt(\n    id_vars=['NAME'],\n    var_name='ROLE',\n    value_name='HAS_ROLE'\n)\n\nuser_status = df_user_role[['NAME', 'DISABLED', 'LAST_SUCCESS_LOGIN']].drop_duplicates()\n\nuser_activity_long = user_activity_long.merge(\n    user_status,\n    on='NAME',\n    how='left'\n)",
   "execution_count": null
  },
  {
   "cell_type": "code",
   "id": "c4851b30-cf4d-45e7-8801-98d737483bc5",
   "metadata": {
    "language": "python",
    "name": "cell1"
   },
   "outputs": [],
   "source": "import pandas as pd\nimport altair as alt\nimport streamlit as st\n\nst.title(\"User Analysis Dashboard\")\n\n# Streamlit filters\ncol1, col2 = st.columns(2)\nwith col1:\n    selected_users = st.multiselect(\n        'Select Users',\n        options=sorted(user_activity_long['NAME'].unique()),\n        default=sorted(user_activity_long['NAME'].unique())\n    )\nwith col2:\n    selected_roles = st.multiselect(\n        'Select Roles',\n        options=sorted(user_activity_long['ROLE'].unique()),\n        default=sorted(user_activity_long['ROLE'].unique())\n    )\n\n# Filter data based on selections\nfiltered_data = user_activity_long[\n    user_activity_long['NAME'].isin(selected_users) & \n    user_activity_long['ROLE'].isin(selected_roles)\n]\n\n# Display summary metrics\nwith st.expander(\"View Summary Metrics\", expanded=True):\n    metric_col1, metric_col2, metric_col3 = st.columns(3)\n    with metric_col1:\n        st.metric(\"Selected Users\", len(selected_users))\n    with metric_col2:\n        st.metric(\"Selected Roles\", len(selected_roles))\n    with metric_col3:\n        st.metric(\"Total Assignments\", len(filtered_data[filtered_data['HAS_ROLE'] > 0]))\n\n# Create styled heatmap\nheatmap = alt.Chart(filtered_data).mark_rect(\n    stroke='black',\n    strokeWidth=1\n).encode(\n    x=alt.X('ROLE:N', \n            title='Roles',\n            axis=alt.Axis(\n                labels=True,\n                tickMinStep=1,\n                labelOverlap=False,\n                labelPadding=10\n            )),\n    y=alt.Y('NAME:N', \n            title='Users',\n            axis=alt.Axis(\n                labels=True,\n                labelLimit=200,\n                tickMinStep=1,\n                labelOverlap=False,\n                labelPadding=10\n            )),\n    color=alt.Color('HAS_ROLE:Q', \n                   title='Has Role',\n                   scale=alt.Scale(scheme='blues')),\n    tooltip=[\n        alt.Tooltip('NAME:N', title='User'),\n        alt.Tooltip('ROLE:N', title='Role'),\n        alt.Tooltip('HAS_ROLE:Q', title='Has Role'),\n        alt.Tooltip('DISABLED:N', title='Is Disabled'),\n        alt.Tooltip('LAST_SUCCESS_LOGIN:T', title='Last Login')\n    ]\n).properties(\n    title='User Role Assignment Matrix'\n).configure_view(\n    stroke=None,\n    continuousHeight=400\n).configure_axis(\n    labelFontSize=10\n)\n\n# Display the chart\nst.altair_chart(heatmap, use_container_width=True)\n\nwith st.expander(\"View DataFrame\"):\n    st.dataframe(filtered_data)",
   "execution_count": null
  },
  {
   "cell_type": "markdown",
   "id": "4e5a1cec-4be0-4e3d-b29f-5d240626c134",
   "metadata": {
    "name": "cell4",
    "collapsed": false
   },
   "source": "# Role Grant Analysis\n\nShow all active privileges granted to roles, including what type of privilege was granted, what object it was granted on, the specific object name, who granted it and when it was created"
  },
  {
   "cell_type": "code",
   "id": "20615ec1-c724-4617-8d3c-9eae2369e26f",
   "metadata": {
    "language": "sql",
    "name": "sql_role_grants"
   },
   "outputs": [],
   "source": "SELECT \n    grantee_name,\n    privilege,\n    granted_on,\n    name as object_name,\n    granted_by,\n    created_on\nFROM SNOWFLAKE.ACCOUNT_USAGE.GRANTS_TO_ROLES\nWHERE deleted_on IS NULL;",
   "execution_count": null
  },
  {
   "cell_type": "code",
   "id": "36ba6f36-460c-49f5-b54b-288447b92224",
   "metadata": {
    "language": "python",
    "name": "df_role_grants"
   },
   "outputs": [],
   "source": "sql_role_grants.to_pandas()",
   "execution_count": null
  },
  {
   "cell_type": "code",
   "id": "52880b85-7867-491e-ac85-eb17ba750a72",
   "metadata": {
    "language": "python",
    "name": "cell2"
   },
   "outputs": [],
   "source": "import pandas as pd\nimport altair as alt\n\nst.title(\"Role Grant Dashboard\")\n\n# Create selectboxes for filtering\ncol1, col2 = st.columns(2)\nwith col1:\n    selected_privilege = st.multiselect(\n        'Select Privileges',\n        options=sorted(df_role_grants['PRIVILEGE'].unique()),\n        default=sorted(df_role_grants['PRIVILEGE'].unique())[:10]\n    )\n\nwith col2:\n    selected_granted_on = st.multiselect(\n        'Select Object Types',\n        options=sorted(df_role_grants['GRANTED_ON'].unique()),\n        default=sorted(df_role_grants['GRANTED_ON'].unique())\n    )\n\n# Filter data\nfiltered_df = df_role_grants[\n    df_role_grants['PRIVILEGE'].isin(selected_privilege) &\n    df_role_grants['GRANTED_ON'].isin(selected_granted_on)\n]\n\n# Show summary metrics\nwith st.expander(\"View Summary Metrics\", expanded=True):\n    metric_col1, metric_col2 = st.columns(2)\n    \n    with metric_col1:\n        st.metric(\"Total Role Grants\", len(filtered_df))\n    \n    with metric_col2:\n        st.metric(\"Unique Users\", filtered_df['GRANTEE_NAME'].nunique())\n\n# Create Top N user chart\ntop_N_chart = alt.Chart(filtered_df).mark_bar(\n    stroke='black',\n    strokeWidth=1\n).encode(\n    x=alt.X('count():Q', \n            title='Number of Role Grants',\n            axis=alt.Axis(\n                labels=True,\n                tickMinStep=1,\n                labelOverlap=False\n            )),\n    y=alt.Y('GRANTEE_NAME:N', \n            title='Users',\n            sort='-x',\n            axis=alt.Axis(\n                labels=True,\n                labelLimit=200,\n                tickMinStep=1,\n                labelOverlap=False,\n                labelPadding=10\n            )),\n    color=alt.Color('PRIVILEGE:N', \n                   title='Privilege Type'),\n    tooltip=[\n        alt.Tooltip('GRANTEE_NAME:N', title='Users'),\n        alt.Tooltip('count():Q', title='Total Grants'),\n        alt.Tooltip('PRIVILEGE:N', title='Privilege Type'),\n        alt.Tooltip('GRANTED_ON:N', title='Granted On')\n    ]\n).transform_window(\n    rank='rank(count())',\n    sort=[alt.SortField('count()', order='descending')]\n).transform_filter(\n    alt.datum.rank <= 20\n).properties(\n    title='Top N Users by Number of Role Grants'\n).configure_view(\n    stroke=None,\n    continuousHeight=400\n).configure_axis(\n    labelFontSize=10\n)\n\n# Display chart\nst.altair_chart(top_N_chart, use_container_width=True)",
   "execution_count": null
  }
 ]
}